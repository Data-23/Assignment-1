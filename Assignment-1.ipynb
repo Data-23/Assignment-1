{
 "cells": [
  {
   "cell_type": "code",
   "execution_count": null,
   "id": "47373fce",
   "metadata": {},
   "outputs": [],
   "source": [
    "#Q1"
   ]
  },
  {
   "cell_type": "code",
   "execution_count": null,
   "id": "12228534",
   "metadata": {},
   "outputs": [],
   "source": [
    "# Create a dictionary containing different types of data\n",
    "data_variable = {\n",
    "    'string': 'Hello, World!',\n",
    "    'list': [1, 2, 3, 4, 5],\n",
    "    'float': 3.14,\n",
    "    'tuple': (10, 20, 30)\n",
    "}\n",
    "\n",
    "# Print the variable\n",
    "print(data_variable)\n",
    "# Create a dictionary containing different types of data\n",
    "data_variable = {\n",
    "    'string': 'Hello, World!',\n",
    "    'list': [1, 2, 3, 4, 5],\n",
    "    'float': 3.14,\n",
    "    'tuple': (10, 20, 30)\n",
    "}\n",
    "\n",
    "# Print the variable\n",
    "print(data_variable)\n"
   ]
  },
  {
   "cell_type": "code",
   "execution_count": null,
   "id": "bd2fcb7f",
   "metadata": {},
   "outputs": [],
   "source": [
    "#Q2"
   ]
  },
  {
   "cell_type": "code",
   "execution_count": 1,
   "id": "472d6f17",
   "metadata": {},
   "outputs": [
    {
     "name": "stdout",
     "output_type": "stream",
     "text": [
      "var1 type: <class 'str'>\n",
      "var2 type: <class 'str'>\n",
      "var3 type: <class 'list'>\n",
      "var4 type: <class 'float'>\n"
     ]
    }
   ],
   "source": [
    "# Define the variables\n",
    "var1 = ' '\n",
    "var2 = '[ DS , ML , Python]'\n",
    "var3 = ['DS', 'ML', 'Python']\n",
    "var4 = 1.0\n",
    "\n",
    "# Print the types of each variable\n",
    "print(\"var1 type:\", type(var1))  # <class 'str'>\n",
    "print(\"var2 type:\", type(var2))  # <class 'str'>\n",
    "print(\"var3 type:\", type(var3))  # <class 'list'>\n",
    "print(\"var4 type:\", type(var4))  # <class 'float'>\n"
   ]
  },
  {
   "cell_type": "code",
   "execution_count": null,
   "id": "7ad7c566",
   "metadata": {},
   "outputs": [],
   "source": [
    "#Q3"
   ]
  },
  {
   "cell_type": "code",
   "execution_count": 2,
   "id": "35a28ab9",
   "metadata": {},
   "outputs": [
    {
     "name": "stdout",
     "output_type": "stream",
     "text": [
      "3.3333333333333335\n"
     ]
    }
   ],
   "source": [
    "a = 10\n",
    "b = 3\n",
    "result = a / b\n",
    "print(result)  # Output: 3.3333333333333335\n"
   ]
  },
  {
   "cell_type": "code",
   "execution_count": 3,
   "id": "328070b4",
   "metadata": {},
   "outputs": [
    {
     "name": "stdout",
     "output_type": "stream",
     "text": [
      "1\n"
     ]
    }
   ],
   "source": [
    "a = 10\n",
    "b = 3\n",
    "result = a % b\n",
    "print(result)  # Output: 1\n"
   ]
  },
  {
   "cell_type": "code",
   "execution_count": 4,
   "id": "241fdb57",
   "metadata": {},
   "outputs": [
    {
     "name": "stdout",
     "output_type": "stream",
     "text": [
      "8\n"
     ]
    }
   ],
   "source": [
    "a = 2\n",
    "b = 3\n",
    "result = a ** b\n",
    "print(result)  # Output: 8\n"
   ]
  },
  {
   "cell_type": "code",
   "execution_count": 5,
   "id": "8777e44a",
   "metadata": {},
   "outputs": [
    {
     "name": "stdout",
     "output_type": "stream",
     "text": [
      "8\n"
     ]
    }
   ],
   "source": [
    "a = 2\n",
    "b = 3\n",
    "result = a ** b\n",
    "print(result)  # Output: 8\n"
   ]
  },
  {
   "cell_type": "code",
   "execution_count": null,
   "id": "82f13a14",
   "metadata": {},
   "outputs": [],
   "source": [
    "#Q4"
   ]
  },
  {
   "cell_type": "code",
   "execution_count": 6,
   "id": "209bc138",
   "metadata": {},
   "outputs": [
    {
     "name": "stdout",
     "output_type": "stream",
     "text": [
      "Element: 42, Type: <class 'int'>\n",
      "Element: Hello, Type: <class 'str'>\n",
      "Element: 3.14, Type: <class 'float'>\n",
      "Element: True, Type: <class 'bool'>\n",
      "Element: None, Type: <class 'NoneType'>\n",
      "Element: [1, 2, 3], Type: <class 'list'>\n",
      "Element: {'key': 'value'}, Type: <class 'dict'>\n",
      "Element: (4, 5), Type: <class 'tuple'>\n",
      "Element: {8, 9, 7}, Type: <class 'set'>\n",
      "Element: b'byte', Type: <class 'bytes'>\n"
     ]
    }
   ],
   "source": [
    "# List containing multiple types of data\n",
    "mixed_list = [42, 'Hello', 3.14, True, None, [1, 2, 3], {'key': 'value'}, (4, 5), {9, 8, 7}, b'byte']\n",
    "\n",
    "# Using a for loop to print each element and its data type\n",
    "for element in mixed_list:\n",
    "    print(f'Element: {element}, Type: {type(element)}')\n"
   ]
  },
  {
   "cell_type": "code",
   "execution_count": null,
   "id": "afb19c21",
   "metadata": {},
   "outputs": [],
   "source": [
    "#Q5"
   ]
  },
  {
   "cell_type": "code",
   "execution_count": 7,
   "id": "e3630787",
   "metadata": {},
   "outputs": [
    {
     "name": "stdout",
     "output_type": "stream",
     "text": [
      "The number can be divided 6 times.\n"
     ]
    }
   ],
   "source": [
    "# Define the numbers\n",
    "A = 64\n",
    "B = 2\n",
    "\n",
    "# Initialize count\n",
    "count = 0\n",
    "\n",
    "# Use a while loop to divide A by B as long as A is divisible by B\n",
    "while A % B == 0:\n",
    "    A = A // B\n",
    "    count += 1\n",
    "\n",
    "# Print the result\n",
    "print(f'The number can be divided {count} times.')\n"
   ]
  },
  {
   "cell_type": "code",
   "execution_count": null,
   "id": "e3f9766d",
   "metadata": {},
   "outputs": [],
   "source": [
    "#Q6"
   ]
  },
  {
   "cell_type": "code",
   "execution_count": 8,
   "id": "48a326c6",
   "metadata": {},
   "outputs": [
    {
     "name": "stdout",
     "output_type": "stream",
     "text": [
      "1 is not divisible by 3\n",
      "2 is not divisible by 3\n",
      "3 is divisible by 3\n",
      "4 is not divisible by 3\n",
      "5 is not divisible by 3\n",
      "6 is divisible by 3\n",
      "7 is not divisible by 3\n",
      "8 is not divisible by 3\n",
      "9 is divisible by 3\n",
      "10 is not divisible by 3\n",
      "11 is not divisible by 3\n",
      "12 is divisible by 3\n",
      "13 is not divisible by 3\n",
      "14 is not divisible by 3\n",
      "15 is divisible by 3\n",
      "16 is not divisible by 3\n",
      "17 is not divisible by 3\n",
      "18 is divisible by 3\n",
      "19 is not divisible by 3\n",
      "20 is not divisible by 3\n",
      "21 is divisible by 3\n",
      "22 is not divisible by 3\n",
      "23 is not divisible by 3\n",
      "24 is divisible by 3\n",
      "25 is not divisible by 3\n"
     ]
    }
   ],
   "source": [
    "# Create a list containing 25 integers\n",
    "int_list = list(range(1, 26))  # This will create a list from 1 to 25\n",
    "\n",
    "# Use a for loop to iterate through the list\n",
    "for number in int_list:\n",
    "    # Check if the number is divisible by 3\n",
    "    if number % 3 == 0:\n",
    "        print(f'{number} is divisible by 3')\n",
    "    else:\n",
    "        print(f'{number} is not divisible by 3')\n"
   ]
  },
  {
   "cell_type": "code",
   "execution_count": null,
   "id": "2902f748",
   "metadata": {},
   "outputs": [],
   "source": [
    "#Q7"
   ]
  },
  {
   "cell_type": "code",
   "execution_count": null,
   "id": "2098b25e",
   "metadata": {},
   "outputs": [],
   "source": []
  }
 ],
 "metadata": {
  "kernelspec": {
   "display_name": "Python 3",
   "language": "python",
   "name": "python3"
  },
  "language_info": {
   "codemirror_mode": {
    "name": "ipython",
    "version": 3
   },
   "file_extension": ".py",
   "mimetype": "text/x-python",
   "name": "python",
   "nbconvert_exporter": "python",
   "pygments_lexer": "ipython3",
   "version": "3.11.3"
  }
 },
 "nbformat": 4,
 "nbformat_minor": 5
}
